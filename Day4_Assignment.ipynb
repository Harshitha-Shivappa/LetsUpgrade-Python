{
  "nbformat": 4,
  "nbformat_minor": 0,
  "metadata": {
    "colab": {
      "name": "Day4-Assignment.ipynb",
      "provenance": [],
      "authorship_tag": "ABX9TyNxeKVKePnWgaoTNW/KdtEP",
      "include_colab_link": true
    },
    "kernelspec": {
      "name": "python3",
      "display_name": "Python 3"
    }
  },
  "cells": [
    {
      "cell_type": "markdown",
      "metadata": {
        "id": "view-in-github",
        "colab_type": "text"
      },
      "source": [
        "<a href=\"https://colab.research.google.com/github/RanjithAruchamy/LetsUpgrade-Python/blob/master/Day4_Assignment.ipynb\" target=\"_parent\"><img src=\"https://colab.research.google.com/assets/colab-badge.svg\" alt=\"Open In Colab\"/></a>"
      ]
    },
    {
      "cell_type": "code",
      "metadata": {
        "id": "ywjyVeE9klbP",
        "colab_type": "code",
        "colab": {
          "base_uri": "https://localhost:8080/",
          "height": 34
        },
        "outputId": "86671723-57e7-4ba8-be08-a5f0ca4cb826"
      },
      "source": [
        "for item in range(1042000,702648265):\n",
        "        sum = 0\n",
        "        temp = item\n",
        "        length = len(str(item))\n",
        "\n",
        "        while temp > 0:\n",
        "            digit = temp % 10\n",
        "            sum += digit ** length\n",
        "            temp //= 10\n",
        "    \n",
        "        if item == sum:\n",
        "            print(item,\"is an Armstrong number\")\n",
        "            break"
      ],
      "execution_count": 19,
      "outputs": [
        {
          "output_type": "stream",
          "text": [
            "1741725 is an Armstrong number\n"
          ],
          "name": "stdout"
        }
      ]
    }
  ]
}