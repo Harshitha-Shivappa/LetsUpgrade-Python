{
  "nbformat": 4,
  "nbformat_minor": 0,
  "metadata": {
    "colab": {
      "name": "Assignment2.ipynb",
      "provenance": [],
      "collapsed_sections": [],
      "authorship_tag": "ABX9TyNKVvHYJx4CTY96/JEiKiXr",
      "include_colab_link": true
    },
    "kernelspec": {
      "name": "python3",
      "display_name": "Python 3"
    }
  },
  "cells": [
    {
      "cell_type": "markdown",
      "metadata": {
        "id": "view-in-github",
        "colab_type": "text"
      },
      "source": [
        "<a href=\"https://colab.research.google.com/github/RanjithAruchamy/LetsUpgrade-Python/blob/master/Assignment2.ipynb\" target=\"_parent\"><img src=\"https://colab.research.google.com/assets/colab-badge.svg\" alt=\"Open In Colab\"/></a>"
      ]
    },
    {
      "cell_type": "code",
      "metadata": {
        "id": "BrfFcNONz9d7",
        "colab_type": "code",
        "colab": {
          "base_uri": "https://localhost:8080/",
          "height": 51
        },
        "outputId": "7b92991e-7e6a-488c-8421-1fbe04f5c1b3"
      },
      "source": [
        "#*************Q1******************\n",
        "altitude = input(\"Altitude - \")\n",
        "altitude = int(altitude)\n",
        "if altitude<=1000:\n",
        "  print ('Safe to land')\n",
        "elif altitude>1000 and altitude<=5000:\n",
        "  print ('Bring down to 1000')\n",
        "else:\n",
        "  print('Turn around')"
      ],
      "execution_count": 9,
      "outputs": [
        {
          "output_type": "stream",
          "text": [
            "Altitude - 5000\n",
            "Bring down to 1000\n"
          ],
          "name": "stdout"
        }
      ]
    },
    {
      "cell_type": "code",
      "metadata": {
        "id": "uMl73ea63c7e",
        "colab_type": "code",
        "colab": {
          "base_uri": "https://localhost:8080/",
          "height": 54
        },
        "outputId": "90e8f082-6cc7-4f04-9859-195db24ffd94"
      },
      "source": [
        "#****************Q2****************\n",
        "for Number in range (1, 201):\n",
        "    count = 0\n",
        "    for i in range(2, (Number//2 + 1)):\n",
        "        if(Number % i == 0):\n",
        "            count = count + 1\n",
        "            break\n",
        "\n",
        "    if (count == 0 and Number != 1):\n",
        "        print(\" %d\" %Number, end = '  ')"
      ],
      "execution_count": 11,
      "outputs": [
        {
          "output_type": "stream",
          "text": [
            " 2   3   5   7   11   13   17   19   23   29   31   37   41   43   47   53   59   61   67   71   73   79   83   89   97   101   103   107   109   113   127   131   137   139   149   151   157   163   167   173   179   181   191   193   197   199  "
          ],
          "name": "stdout"
        }
      ]
    }
  ]
}
